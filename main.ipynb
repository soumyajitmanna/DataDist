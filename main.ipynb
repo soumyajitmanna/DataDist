{
 "cells": [
  {
   "cell_type": "code",
   "execution_count": 1,
   "metadata": {
    "id": "E9HXLDug59hR"
   },
   "outputs": [
    {
     "name": "stdout",
     "output_type": "stream",
     "text": [
      "Requirement already satisfied: scipy in c:\\users\\kayde\\.conda\\envs\\ml\\lib\\site-packages (1.7.0)\n",
      "Requirement already satisfied: numpy<1.23.0,>=1.16.5 in c:\\users\\kayde\\.conda\\envs\\ml\\lib\\site-packages (from scipy) (1.19.2)\n",
      "Requirement already satisfied: scipy in c:\\users\\kayde\\.conda\\envs\\ml\\lib\\site-packages (1.7.0)\n",
      "Requirement already satisfied: numpy<1.23.0,>=1.16.5 in c:\\users\\kayde\\.conda\\envs\\ml\\lib\\site-packages (from scipy) (1.19.2)\n",
      "Requirement already satisfied: seaborn in c:\\users\\kayde\\.conda\\envs\\ml\\lib\\site-packages (0.11.1)\n",
      "Requirement already satisfied: matplotlib>=2.2 in c:\\users\\kayde\\.conda\\envs\\ml\\lib\\site-packages (from seaborn) (3.3.4)\n",
      "Requirement already satisfied: scipy>=1.0 in c:\\users\\kayde\\.conda\\envs\\ml\\lib\\site-packages (from seaborn) (1.7.0)\n",
      "Requirement already satisfied: pandas>=0.23 in c:\\users\\kayde\\.conda\\envs\\ml\\lib\\site-packages (from seaborn) (1.2.3)\n",
      "Requirement already satisfied: numpy>=1.15 in c:\\users\\kayde\\.conda\\envs\\ml\\lib\\site-packages (from seaborn) (1.19.2)\n",
      "Requirement already satisfied: python-dateutil>=2.1 in c:\\users\\kayde\\.conda\\envs\\ml\\lib\\site-packages (from matplotlib>=2.2->seaborn) (2.8.1)\n",
      "Requirement already satisfied: pyparsing!=2.0.4,!=2.1.2,!=2.1.6,>=2.0.3 in c:\\users\\kayde\\.conda\\envs\\ml\\lib\\site-packages (from matplotlib>=2.2->seaborn) (2.4.7)\n",
      "Requirement already satisfied: cycler>=0.10 in c:\\users\\kayde\\.conda\\envs\\ml\\lib\\site-packages (from matplotlib>=2.2->seaborn) (0.10.0)\n",
      "Requirement already satisfied: kiwisolver>=1.0.1 in c:\\users\\kayde\\.conda\\envs\\ml\\lib\\site-packages (from matplotlib>=2.2->seaborn) (1.3.1)\n",
      "Requirement already satisfied: pillow>=6.2.0 in c:\\users\\kayde\\.conda\\envs\\ml\\lib\\site-packages (from matplotlib>=2.2->seaborn) (7.2.0)\n",
      "Requirement already satisfied: six in c:\\users\\kayde\\.conda\\envs\\ml\\lib\\site-packages (from cycler>=0.10->matplotlib>=2.2->seaborn) (1.15.0)\n",
      "Requirement already satisfied: pytz>=2017.3 in c:\\users\\kayde\\.conda\\envs\\ml\\lib\\site-packages (from pandas>=0.23->seaborn) (2021.1)\n",
      "Collecting fitter\n",
      "  Downloading fitter-1.3.0.tar.gz (26 kB)\n",
      "Collecting easydev\n",
      "  Downloading easydev-0.11.1.tar.gz (55 kB)\n",
      "Requirement already satisfied: numpy in c:\\users\\kayde\\.conda\\envs\\ml\\lib\\site-packages (from fitter) (1.19.2)\n",
      "Requirement already satisfied: matplotlib in c:\\users\\kayde\\.conda\\envs\\ml\\lib\\site-packages (from fitter) (3.3.4)\n",
      "Requirement already satisfied: scipy>=0.18 in c:\\users\\kayde\\.conda\\envs\\ml\\lib\\site-packages (from fitter) (1.7.0)\n",
      "Requirement already satisfied: pandas in c:\\users\\kayde\\.conda\\envs\\ml\\lib\\site-packages (from fitter) (1.2.3)\n",
      "Requirement already satisfied: click in c:\\users\\kayde\\.conda\\envs\\ml\\lib\\site-packages (from fitter) (7.1.2)\n",
      "Requirement already satisfied: joblib in c:\\users\\kayde\\.conda\\envs\\ml\\lib\\site-packages (from fitter) (1.0.1)\n",
      "Requirement already satisfied: colorama in c:\\users\\kayde\\.conda\\envs\\ml\\lib\\site-packages (from easydev->fitter) (0.4.4)\n",
      "Collecting pexpect\n",
      "  Downloading pexpect-4.8.0-py2.py3-none-any.whl (59 kB)\n",
      "Collecting colorlog\n",
      "  Downloading colorlog-5.0.1-py2.py3-none-any.whl (10 kB)\n",
      "Requirement already satisfied: pillow>=6.2.0 in c:\\users\\kayde\\.conda\\envs\\ml\\lib\\site-packages (from matplotlib->fitter) (7.2.0)\n",
      "Requirement already satisfied: kiwisolver>=1.0.1 in c:\\users\\kayde\\.conda\\envs\\ml\\lib\\site-packages (from matplotlib->fitter) (1.3.1)\n",
      "Requirement already satisfied: pyparsing!=2.0.4,!=2.1.2,!=2.1.6,>=2.0.3 in c:\\users\\kayde\\.conda\\envs\\ml\\lib\\site-packages (from matplotlib->fitter) (2.4.7)\n",
      "Requirement already satisfied: cycler>=0.10 in c:\\users\\kayde\\.conda\\envs\\ml\\lib\\site-packages (from matplotlib->fitter) (0.10.0)\n",
      "Requirement already satisfied: python-dateutil>=2.1 in c:\\users\\kayde\\.conda\\envs\\ml\\lib\\site-packages (from matplotlib->fitter) (2.8.1)\n",
      "Requirement already satisfied: six in c:\\users\\kayde\\.conda\\envs\\ml\\lib\\site-packages (from cycler>=0.10->matplotlib->fitter) (1.15.0)\n",
      "Requirement already satisfied: pytz>=2017.3 in c:\\users\\kayde\\.conda\\envs\\ml\\lib\\site-packages (from pandas->fitter) (2021.1)\n",
      "Collecting ptyprocess>=0.5\n",
      "  Downloading ptyprocess-0.7.0-py2.py3-none-any.whl (13 kB)\n",
      "Building wheels for collected packages: fitter, easydev\n",
      "  Building wheel for fitter (setup.py): started\n",
      "  Building wheel for fitter (setup.py): finished with status 'done'\n",
      "  Created wheel for fitter: filename=fitter-1.3.0-py3-none-any.whl size=24754 sha256=3e3a4475ba6c4372cd6fa3c9a03f24b9cfb79320b13e3c10a379405f96eb414e\n",
      "  Stored in directory: c:\\users\\kayde\\appdata\\local\\pip\\cache\\wheels\\a8\\f4\\5b\\91bc8bd81cb78bad7b8586bfdd6215f3ca0e8d7a03ee5778cb\n",
      "  Building wheel for easydev (setup.py): started\n",
      "  Building wheel for easydev (setup.py): finished with status 'done'\n",
      "  Created wheel for easydev: filename=easydev-0.11.1-py3-none-any.whl size=64248 sha256=fcd09aa01a784c7a8aa1a9c9a2b2a6d9c2f74d7ef4865e53b6c2033305b7c67f\n",
      "  Stored in directory: c:\\users\\kayde\\appdata\\local\\pip\\cache\\wheels\\d4\\44\\67\\1bffe3ea5f2745701ccdd169759ca1ca003fee77bdcce91347\n",
      "Successfully built fitter easydev\n",
      "Installing collected packages: ptyprocess, pexpect, colorlog, easydev, fitter\n",
      "Successfully installed colorlog-5.0.1 easydev-0.11.1 fitter-1.3.0 pexpect-4.8.0 ptyprocess-0.7.0\n"
     ]
    }
   ],
   "source": [
    "!pip install scipy\n",
    "!pip install --upgrade scipy\n",
    "!pip install seaborn\n",
    "!pip install fitter\n",
    "import seaborn as sns\n",
    "from fitter import Fitter, get_common_distributions, get_distributions\n",
    "from scipy import *\n",
    "import numpy as np\n",
    "import pandas as pd\n",
    "import matplotlib.pyplot as plot"
   ]
  },
  {
   "cell_type": "markdown",
   "metadata": {},
   "source": [
    "Alright just ignore the errors, the important thing is we have the latest scipy now, lets get to work"
   ]
  },
  {
   "cell_type": "code",
   "execution_count": 3,
   "metadata": {},
   "outputs": [
    {
     "name": "stdout",
     "output_type": "stream",
     "text": [
      "<class 'pandas.core.frame.DataFrame'>\n",
      "RangeIndex: 10957 entries, 0 to 10956\n",
      "Data columns (total 1 columns):\n",
      " #   Column  Non-Null Count  Dtype  \n",
      "---  ------  --------------  -----  \n",
      " 0   Rain1   10957 non-null  float64\n",
      "dtypes: float64(1)\n",
      "memory usage: 85.7 KB\n"
     ]
    },
    {
     "data": {
      "text/html": [
       "<div>\n",
       "<style scoped>\n",
       "    .dataframe tbody tr th:only-of-type {\n",
       "        vertical-align: middle;\n",
       "    }\n",
       "\n",
       "    .dataframe tbody tr th {\n",
       "        vertical-align: top;\n",
       "    }\n",
       "\n",
       "    .dataframe thead th {\n",
       "        text-align: right;\n",
       "    }\n",
       "</style>\n",
       "<table border=\"1\" class=\"dataframe\">\n",
       "  <thead>\n",
       "    <tr style=\"text-align: right;\">\n",
       "      <th></th>\n",
       "      <th>Rain1</th>\n",
       "    </tr>\n",
       "  </thead>\n",
       "  <tbody>\n",
       "    <tr>\n",
       "      <th>0</th>\n",
       "      <td>0.964389</td>\n",
       "    </tr>\n",
       "    <tr>\n",
       "      <th>1</th>\n",
       "      <td>6.175052</td>\n",
       "    </tr>\n",
       "    <tr>\n",
       "      <th>2</th>\n",
       "      <td>15.549931</td>\n",
       "    </tr>\n",
       "    <tr>\n",
       "      <th>3</th>\n",
       "      <td>1.295938</td>\n",
       "    </tr>\n",
       "    <tr>\n",
       "      <th>4</th>\n",
       "      <td>0.000000</td>\n",
       "    </tr>\n",
       "    <tr>\n",
       "      <th>...</th>\n",
       "      <td>...</td>\n",
       "    </tr>\n",
       "    <tr>\n",
       "      <th>10952</th>\n",
       "      <td>0.000000</td>\n",
       "    </tr>\n",
       "    <tr>\n",
       "      <th>10953</th>\n",
       "      <td>0.000000</td>\n",
       "    </tr>\n",
       "    <tr>\n",
       "      <th>10954</th>\n",
       "      <td>0.000000</td>\n",
       "    </tr>\n",
       "    <tr>\n",
       "      <th>10955</th>\n",
       "      <td>0.000000</td>\n",
       "    </tr>\n",
       "    <tr>\n",
       "      <th>10956</th>\n",
       "      <td>0.000000</td>\n",
       "    </tr>\n",
       "  </tbody>\n",
       "</table>\n",
       "<p>10957 rows × 1 columns</p>\n",
       "</div>"
      ],
      "text/plain": [
       "           Rain1\n",
       "0       0.964389\n",
       "1       6.175052\n",
       "2      15.549931\n",
       "3       1.295938\n",
       "4       0.000000\n",
       "...          ...\n",
       "10952   0.000000\n",
       "10953   0.000000\n",
       "10954   0.000000\n",
       "10955   0.000000\n",
       "10956   0.000000\n",
       "\n",
       "[10957 rows x 1 columns]"
      ]
     },
     "execution_count": 3,
     "metadata": {},
     "output_type": "execute_result"
    }
   ],
   "source": [
    "rain1 = pd.read_csv(r'Rain1.csv')\n",
    "rain1.info()\n",
    "rain1"
   ]
  },
  {
   "cell_type": "code",
   "execution_count": 7,
   "metadata": {},
   "outputs": [
    {
     "data": {
      "image/png": "[encoded data removed]",
      "text/plain": [
       "<Figure size 720x360 with 1 Axes>"
      ]
     },
     "metadata": {
      "needs_background": "light"
     },
     "output_type": "display_data"
    }
   ],
   "source": [
    "data = rain1.to_numpy()\n",
    "data\n",
    "fig,axes=plot.subplots(figsize=(10,5),tight_layout=True)\n",
    "axes.hist(data, bins=100)\n",
    "plot.show()"
   ]
  },
  {
   "cell_type": "code",
   "execution_count": null,
   "metadata": {},
   "outputs": [],
   "source": []
  }
 ],
 "metadata": {
  "colab": {
   "authorship_tag": "ABX9TyN85RqtTu15mLdQR2eRadvk",
   "include_colab_link": true,
   "name": "Untitled1.ipynb",
   "provenance": []
  },
  "kernelspec": {
   "display_name": "Python 3",
   "language": "python",
   "name": "python3"
  },
  "language_info": {
   "codemirror_mode": {
    "name": "ipython",
    "version": 3
   },
   "file_extension": ".py",
   "mimetype": "text/x-python",
   "name": "python",
   "nbconvert_exporter": "python",
   "pygments_lexer": "ipython3",
   "version": "3.8.8"
  }
 },
 "nbformat": 4,
 "nbformat_minor": 1
}
